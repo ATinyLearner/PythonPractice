{
 "metadata": {
  "language_info": {
   "codemirror_mode": {
    "name": "ipython",
    "version": 3
   },
   "file_extension": ".py",
   "mimetype": "text/x-python",
   "name": "python",
   "nbconvert_exporter": "python",
   "pygments_lexer": "ipython3",
   "version": "3.9.2-final"
  },
  "orig_nbformat": 2,
  "kernelspec": {
   "name": "python3",
   "display_name": "Python 3.9.2 64-bit",
   "metadata": {
    "interpreter": {
     "hash": "7b29f7e71bb28e482e976e663afa1ff9f9446110d038bf538bbe8640482cc586"
    }
   }
  }
 },
 "nbformat": 4,
 "nbformat_minor": 2,
 "cells": [
  {
   "cell_type": "code",
   "execution_count": 5,
   "metadata": {},
   "outputs": [
    {
     "output_type": "stream",
     "name": "stdout",
     "text": [
      "False\n"
     ]
    }
   ],
   "source": [
    "#is an amstrong number\n",
    "user_input=input(\"Enter a 3 digit number to verify:\")\n",
    "given_number=int(user_input)\n",
    "user_input=list(user_input)\n",
    "numbers=[int(i) for i in user_input]\n",
    "def isAmstrong(a:list):\n",
    "    result=0\n",
    "    for i in range(3):\n",
    "        result+=a[i]**3\n",
    "    if result==given_number:\n",
    "        return True\n",
    "    else:\n",
    "        return False\n",
    "print(isAmstrong(numbers))\n"
   ]
  },
  {
   "cell_type": "code",
   "execution_count": 4,
   "metadata": {},
   "outputs": [
    {
     "output_type": "stream",
     "name": "stdout",
     "text": [
      "False\n"
     ]
    }
   ],
   "source": [
    "#is an Narcissistic number\n",
    "user_input=input()\n",
    "given_number=int(user_input)\n",
    "user_input=list(user_input)\n",
    "num_lim=len(user_input)\n",
    "numbers=[int(i) for i in user_input]\n",
    "def isNarcissistic(a:list):\n",
    "    result=0\n",
    "    for i in range(num_lim):\n",
    "        result+=a[i]**num_lim\n",
    "    if result==given_number:\n",
    "        return True\n",
    "    else:\n",
    "        return False\n",
    "print(isNarcissistic(numbers))"
   ]
  },
  {
   "cell_type": "code",
   "execution_count": 2,
   "metadata": {},
   "outputs": [
    {
     "output_type": "stream",
     "name": "stdout",
     "text": [
      "5\n"
     ]
    }
   ],
   "source": [
    "#2nd highest\n",
    "length=int(input())\n",
    "user_input=input().split()\n",
    "numbers=[int(user_input[i]) for i in range(length)] \n",
    "same=all(ele==numbers for ele in numbers)\n",
    "def secHigh(a:list)->int:\n",
    "    high=max(a)\n",
    "    temp=None\n",
    "    for i in a:\n",
    "        if temp==None:\n",
    "            temp=i\n",
    "        elif i<high:\n",
    "            if i>temp:\n",
    "                temp=i\n",
    "    return temp\n",
    "if same==True or len(numbers)==1:\n",
    "    print(\"Error\")\n",
    "else:\n",
    "    print(secHigh(numbers))\n",
    "        \n"
   ]
  },
  {
   "cell_type": "code",
   "execution_count": null,
   "metadata": {},
   "outputs": [],
   "source": []
  }
 ]
}